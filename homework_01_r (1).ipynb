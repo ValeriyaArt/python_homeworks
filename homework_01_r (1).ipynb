{
 "cells": [
  {
   "cell_type": "code",
   "execution_count": 118,
   "metadata": {
    "scrolled": false
   },
   "outputs": [],
   "source": [
    "df <- read.csv('mlbootcamp5_train (1).csv')"
   ]
  },
  {
   "cell_type": "code",
   "execution_count": 119,
   "metadata": {
    "scrolled": true
   },
   "outputs": [
    {
     "data": {
      "text/html": [
       "<table>\n",
       "<thead><tr><th scope=col>id</th><th scope=col>age</th><th scope=col>gender</th><th scope=col>height</th><th scope=col>weight</th><th scope=col>ap_hi</th><th scope=col>ap_lo</th><th scope=col>cholesterol</th><th scope=col>gluc</th><th scope=col>smoke</th><th scope=col>alco</th><th scope=col>active</th><th scope=col>cardio</th></tr></thead>\n",
       "<tbody>\n",
       "\t<tr><td>0    </td><td>18393</td><td>2    </td><td>168  </td><td>62   </td><td>110  </td><td> 80  </td><td>1    </td><td>1    </td><td>0    </td><td>0    </td><td>1    </td><td>0    </td></tr>\n",
       "\t<tr><td>1    </td><td>20228</td><td>1    </td><td>156  </td><td>85   </td><td>140  </td><td> 90  </td><td>3    </td><td>1    </td><td>0    </td><td>0    </td><td>1    </td><td>1    </td></tr>\n",
       "\t<tr><td>2    </td><td>18857</td><td>1    </td><td>165  </td><td>64   </td><td>130  </td><td> 70  </td><td>3    </td><td>1    </td><td>0    </td><td>0    </td><td>0    </td><td>1    </td></tr>\n",
       "\t<tr><td>3    </td><td>17623</td><td>2    </td><td>169  </td><td>82   </td><td>150  </td><td>100  </td><td>1    </td><td>1    </td><td>0    </td><td>0    </td><td>1    </td><td>1    </td></tr>\n",
       "\t<tr><td>4    </td><td>17474</td><td>1    </td><td>156  </td><td>56   </td><td>100  </td><td> 60  </td><td>1    </td><td>1    </td><td>0    </td><td>0    </td><td>0    </td><td>0    </td></tr>\n",
       "\t<tr><td>8    </td><td>21914</td><td>1    </td><td>151  </td><td>67   </td><td>120  </td><td> 80  </td><td>2    </td><td>2    </td><td>0    </td><td>0    </td><td>0    </td><td>0    </td></tr>\n",
       "</tbody>\n",
       "</table>\n"
      ],
      "text/latex": [
       "\\begin{tabular}{r|lllllllllllll}\n",
       " id & age & gender & height & weight & ap\\_hi & ap\\_lo & cholesterol & gluc & smoke & alco & active & cardio\\\\\n",
       "\\hline\n",
       "\t 0     & 18393 & 2     & 168   & 62    & 110   &  80   & 1     & 1     & 0     & 0     & 1     & 0    \\\\\n",
       "\t 1     & 20228 & 1     & 156   & 85    & 140   &  90   & 3     & 1     & 0     & 0     & 1     & 1    \\\\\n",
       "\t 2     & 18857 & 1     & 165   & 64    & 130   &  70   & 3     & 1     & 0     & 0     & 0     & 1    \\\\\n",
       "\t 3     & 17623 & 2     & 169   & 82    & 150   & 100   & 1     & 1     & 0     & 0     & 1     & 1    \\\\\n",
       "\t 4     & 17474 & 1     & 156   & 56    & 100   &  60   & 1     & 1     & 0     & 0     & 0     & 0    \\\\\n",
       "\t 8     & 21914 & 1     & 151   & 67    & 120   &  80   & 2     & 2     & 0     & 0     & 0     & 0    \\\\\n",
       "\\end{tabular}\n"
      ],
      "text/markdown": [
       "\n",
       "id | age | gender | height | weight | ap_hi | ap_lo | cholesterol | gluc | smoke | alco | active | cardio | \n",
       "|---|---|---|---|---|---|\n",
       "| 0     | 18393 | 2     | 168   | 62    | 110   |  80   | 1     | 1     | 0     | 0     | 1     | 0     | \n",
       "| 1     | 20228 | 1     | 156   | 85    | 140   |  90   | 3     | 1     | 0     | 0     | 1     | 1     | \n",
       "| 2     | 18857 | 1     | 165   | 64    | 130   |  70   | 3     | 1     | 0     | 0     | 0     | 1     | \n",
       "| 3     | 17623 | 2     | 169   | 82    | 150   | 100   | 1     | 1     | 0     | 0     | 1     | 1     | \n",
       "| 4     | 17474 | 1     | 156   | 56    | 100   |  60   | 1     | 1     | 0     | 0     | 0     | 0     | \n",
       "| 8     | 21914 | 1     | 151   | 67    | 120   |  80   | 2     | 2     | 0     | 0     | 0     | 0     | \n",
       "\n",
       "\n"
      ],
      "text/plain": [
       "  id age   gender height weight ap_hi ap_lo cholesterol gluc smoke alco active\n",
       "1 0  18393 2      168    62     110    80   1           1    0     0    1     \n",
       "2 1  20228 1      156    85     140    90   3           1    0     0    1     \n",
       "3 2  18857 1      165    64     130    70   3           1    0     0    0     \n",
       "4 3  17623 2      169    82     150   100   1           1    0     0    1     \n",
       "5 4  17474 1      156    56     100    60   1           1    0     0    0     \n",
       "6 8  21914 1      151    67     120    80   2           2    0     0    0     \n",
       "  cardio\n",
       "1 0     \n",
       "2 1     \n",
       "3 1     \n",
       "4 1     \n",
       "5 0     \n",
       "6 0     "
      ]
     },
     "metadata": {},
     "output_type": "display_data"
    }
   ],
   "source": [
    "head(df) "
   ]
  },
  {
   "cell_type": "markdown",
   "metadata": {},
   "source": [
    "Сколько мужчин и женщин представлено в этом наборе данных? Не было дано расшифровки признака \"пол\" (какому полу соответствует 1, а какому – 2 в признаке gender) – это определите, посмотрев также на рост при разумном предположении, что в среднем мужчины выше (здесь и далее под средним понимается среднее арифметическое)."
   ]
  },
  {
   "cell_type": "markdown",
   "metadata": {},
   "source": [
    "Посчитаем средний рост по различным значениям пола:"
   ]
  },
  {
   "cell_type": "code",
   "execution_count": 120,
   "metadata": {},
   "outputs": [
    {
     "data": {
      "text/html": [
       "161.355611684604"
      ],
      "text/latex": [
       "161.355611684604"
      ],
      "text/markdown": [
       "161.355611684604"
      ],
      "text/plain": [
       "[1] 161.3556"
      ]
     },
     "metadata": {},
     "output_type": "display_data"
    }
   ],
   "source": [
    "mean(df$height[df$gender == 1]) "
   ]
  },
  {
   "cell_type": "code",
   "execution_count": 121,
   "metadata": {},
   "outputs": [
    {
     "data": {
      "text/html": [
       "169.947895382101"
      ],
      "text/latex": [
       "169.947895382101"
      ],
      "text/markdown": [
       "169.947895382101"
      ],
      "text/plain": [
       "[1] 169.9479"
      ]
     },
     "metadata": {},
     "output_type": "display_data"
    }
   ],
   "source": [
    "mean(df$height[df$gender == 2]) "
   ]
  },
  {
   "cell_type": "code",
   "execution_count": 122,
   "metadata": {},
   "outputs": [],
   "source": [
    "sex <- as.array(df$gender == 1)"
   ]
  },
  {
   "cell_type": "code",
   "execution_count": 123,
   "metadata": {},
   "outputs": [],
   "source": [
    "female <- which(sex == TRUE) "
   ]
  },
  {
   "cell_type": "code",
   "execution_count": 124,
   "metadata": {},
   "outputs": [],
   "source": [
    "male <- which(sex == FALSE) "
   ]
  },
  {
   "cell_type": "markdown",
   "metadata": {},
   "source": [
    "Количество женщин и мужчин"
   ]
  },
  {
   "cell_type": "code",
   "execution_count": 125,
   "metadata": {},
   "outputs": [
    {
     "name": "stdout",
     "output_type": "stream",
     "text": [
      "[1] 45530\n"
     ]
    }
   ],
   "source": [
    "print(length(female)) "
   ]
  },
  {
   "cell_type": "code",
   "execution_count": 126,
   "metadata": {},
   "outputs": [
    {
     "name": "stdout",
     "output_type": "stream",
     "text": [
      "[1] 24470\n"
     ]
    }
   ],
   "source": [
    "print(length(male)) "
   ]
  },
  {
   "cell_type": "markdown",
   "metadata": {},
   "source": [
    "Вопрос 2 (1 балл). Кто в среднем реже указывает, что употребляет алкоголь – мужчины или женщины?"
   ]
  },
  {
   "cell_type": "code",
   "execution_count": 127,
   "metadata": {},
   "outputs": [],
   "source": [
    "alco_fem <- length(as.array(which(as.array(df$alco == 1) & sex == TRUE))) "
   ]
  },
  {
   "cell_type": "code",
   "execution_count": 128,
   "metadata": {},
   "outputs": [],
   "source": [
    "alco_m <- length(as.array(which(as.array(df$alco == 1) & sex == FALSE))) "
   ]
  },
  {
   "cell_type": "code",
   "execution_count": 129,
   "metadata": {},
   "outputs": [
    {
     "name": "stdout",
     "output_type": "stream",
     "text": [
      "[1] 1161\n"
     ]
    }
   ],
   "source": [
    "print(alco_fem) "
   ]
  },
  {
   "cell_type": "code",
   "execution_count": 130,
   "metadata": {},
   "outputs": [
    {
     "name": "stdout",
     "output_type": "stream",
     "text": [
      "[1] 2603\n"
     ]
    }
   ],
   "source": [
    "print(alco_m) "
   ]
  },
  {
   "cell_type": "markdown",
   "metadata": {},
   "source": [
    "Вывод: мужчины указывают чаще, что употребляют алкоголь"
   ]
  },
  {
   "cell_type": "markdown",
   "metadata": {},
   "source": [
    "Вопрос 3 (1 балл). Во сколько раз (округленно, round) процент курящих среди мужчин больше, чем процент курящих среди женщин (по крайней мере, по этим анкетным данным)?"
   ]
  },
  {
   "cell_type": "code",
   "execution_count": 131,
   "metadata": {},
   "outputs": [],
   "source": [
    "smoke_fem <- length(as.array(which(as.array(df$smoke == 1) & sex == TRUE))) "
   ]
  },
  {
   "cell_type": "code",
   "execution_count": 132,
   "metadata": {},
   "outputs": [],
   "source": [
    "smoke_m <- length(as.array(which(as.array(df$smoke == 1) & sex == FALSE))) "
   ]
  },
  {
   "cell_type": "code",
   "execution_count": 133,
   "metadata": {},
   "outputs": [],
   "source": [
    "s_w <- smoke_fem / length(female) * 100 "
   ]
  },
  {
   "cell_type": "code",
   "execution_count": 134,
   "metadata": {},
   "outputs": [],
   "source": [
    "s_m <- smoke_m / length(male) * 100 "
   ]
  },
  {
   "cell_type": "code",
   "execution_count": 135,
   "metadata": {},
   "outputs": [
    {
     "name": "stdout",
     "output_type": "stream",
     "text": [
      "[1] 12\n"
     ]
    }
   ],
   "source": [
    "print(round(s_m/s_w)) "
   ]
  },
  {
   "cell_type": "markdown",
   "metadata": {},
   "source": [
    "Вопрос 4 (1 балл). Вы наверняка заметили, что значения возраста какие-то странные. Догадайтесь, в чём здесь измеряется возраст, и ответьте, на сколько месяцев (примерно) отличаются медианные значения возраста курящих и некурящих."
   ]
  },
  {
   "cell_type": "markdown",
   "metadata": {},
   "source": [
    "Предположим, что возраст представлен в днях. Разделим данный в таблицах возраст на количество дней в году, получим возраст в месяцах"
   ]
  },
  {
   "cell_type": "code",
   "execution_count": 136,
   "metadata": {},
   "outputs": [],
   "source": [
    "df$age_years <- round(df$age / 365) "
   ]
  },
  {
   "cell_type": "code",
   "execution_count": 137,
   "metadata": {},
   "outputs": [
    {
     "data": {
      "text/html": [
       "<table>\n",
       "<thead><tr><th scope=col>id</th><th scope=col>age</th><th scope=col>gender</th><th scope=col>height</th><th scope=col>weight</th><th scope=col>ap_hi</th><th scope=col>ap_lo</th><th scope=col>cholesterol</th><th scope=col>gluc</th><th scope=col>smoke</th><th scope=col>alco</th><th scope=col>active</th><th scope=col>cardio</th><th scope=col>age_years</th></tr></thead>\n",
       "<tbody>\n",
       "\t<tr><td>0    </td><td>18393</td><td>2    </td><td>168  </td><td>62   </td><td>110  </td><td> 80  </td><td>1    </td><td>1    </td><td>0    </td><td>0    </td><td>1    </td><td>0    </td><td>50   </td></tr>\n",
       "\t<tr><td>1    </td><td>20228</td><td>1    </td><td>156  </td><td>85   </td><td>140  </td><td> 90  </td><td>3    </td><td>1    </td><td>0    </td><td>0    </td><td>1    </td><td>1    </td><td>55   </td></tr>\n",
       "\t<tr><td>2    </td><td>18857</td><td>1    </td><td>165  </td><td>64   </td><td>130  </td><td> 70  </td><td>3    </td><td>1    </td><td>0    </td><td>0    </td><td>0    </td><td>1    </td><td>52   </td></tr>\n",
       "\t<tr><td>3    </td><td>17623</td><td>2    </td><td>169  </td><td>82   </td><td>150  </td><td>100  </td><td>1    </td><td>1    </td><td>0    </td><td>0    </td><td>1    </td><td>1    </td><td>48   </td></tr>\n",
       "\t<tr><td>4    </td><td>17474</td><td>1    </td><td>156  </td><td>56   </td><td>100  </td><td> 60  </td><td>1    </td><td>1    </td><td>0    </td><td>0    </td><td>0    </td><td>0    </td><td>48   </td></tr>\n",
       "\t<tr><td>8    </td><td>21914</td><td>1    </td><td>151  </td><td>67   </td><td>120  </td><td> 80  </td><td>2    </td><td>2    </td><td>0    </td><td>0    </td><td>0    </td><td>0    </td><td>60   </td></tr>\n",
       "</tbody>\n",
       "</table>\n"
      ],
      "text/latex": [
       "\\begin{tabular}{r|llllllllllllll}\n",
       " id & age & gender & height & weight & ap\\_hi & ap\\_lo & cholesterol & gluc & smoke & alco & active & cardio & age\\_years\\\\\n",
       "\\hline\n",
       "\t 0     & 18393 & 2     & 168   & 62    & 110   &  80   & 1     & 1     & 0     & 0     & 1     & 0     & 50   \\\\\n",
       "\t 1     & 20228 & 1     & 156   & 85    & 140   &  90   & 3     & 1     & 0     & 0     & 1     & 1     & 55   \\\\\n",
       "\t 2     & 18857 & 1     & 165   & 64    & 130   &  70   & 3     & 1     & 0     & 0     & 0     & 1     & 52   \\\\\n",
       "\t 3     & 17623 & 2     & 169   & 82    & 150   & 100   & 1     & 1     & 0     & 0     & 1     & 1     & 48   \\\\\n",
       "\t 4     & 17474 & 1     & 156   & 56    & 100   &  60   & 1     & 1     & 0     & 0     & 0     & 0     & 48   \\\\\n",
       "\t 8     & 21914 & 1     & 151   & 67    & 120   &  80   & 2     & 2     & 0     & 0     & 0     & 0     & 60   \\\\\n",
       "\\end{tabular}\n"
      ],
      "text/markdown": [
       "\n",
       "id | age | gender | height | weight | ap_hi | ap_lo | cholesterol | gluc | smoke | alco | active | cardio | age_years | \n",
       "|---|---|---|---|---|---|\n",
       "| 0     | 18393 | 2     | 168   | 62    | 110   |  80   | 1     | 1     | 0     | 0     | 1     | 0     | 50    | \n",
       "| 1     | 20228 | 1     | 156   | 85    | 140   |  90   | 3     | 1     | 0     | 0     | 1     | 1     | 55    | \n",
       "| 2     | 18857 | 1     | 165   | 64    | 130   |  70   | 3     | 1     | 0     | 0     | 0     | 1     | 52    | \n",
       "| 3     | 17623 | 2     | 169   | 82    | 150   | 100   | 1     | 1     | 0     | 0     | 1     | 1     | 48    | \n",
       "| 4     | 17474 | 1     | 156   | 56    | 100   |  60   | 1     | 1     | 0     | 0     | 0     | 0     | 48    | \n",
       "| 8     | 21914 | 1     | 151   | 67    | 120   |  80   | 2     | 2     | 0     | 0     | 0     | 0     | 60    | \n",
       "\n",
       "\n"
      ],
      "text/plain": [
       "  id age   gender height weight ap_hi ap_lo cholesterol gluc smoke alco active\n",
       "1 0  18393 2      168    62     110    80   1           1    0     0    1     \n",
       "2 1  20228 1      156    85     140    90   3           1    0     0    1     \n",
       "3 2  18857 1      165    64     130    70   3           1    0     0    0     \n",
       "4 3  17623 2      169    82     150   100   1           1    0     0    1     \n",
       "5 4  17474 1      156    56     100    60   1           1    0     0    0     \n",
       "6 8  21914 1      151    67     120    80   2           2    0     0    0     \n",
       "  cardio age_years\n",
       "1 0      50       \n",
       "2 1      55       \n",
       "3 1      52       \n",
       "4 1      48       \n",
       "5 0      48       \n",
       "6 0      60       "
      ]
     },
     "metadata": {},
     "output_type": "display_data"
    }
   ],
   "source": [
    "head(df) "
   ]
  },
  {
   "cell_type": "code",
   "execution_count": 138,
   "metadata": {},
   "outputs": [
    {
     "data": {
      "text/html": [
       "52.3"
      ],
      "text/latex": [
       "52.3"
      ],
      "text/markdown": [
       "52.3"
      ],
      "text/plain": [
       "[1] 52.3"
      ]
     },
     "metadata": {},
     "output_type": "display_data"
    }
   ],
   "source": [
    "round((mean(df$age_years[df$smoke == 1])),2)"
   ]
  },
  {
   "cell_type": "code",
   "execution_count": 139,
   "metadata": {},
   "outputs": [
    {
     "data": {
      "text/html": [
       "53.44"
      ],
      "text/latex": [
       "53.44"
      ],
      "text/markdown": [
       "53.44"
      ],
      "text/plain": [
       "[1] 53.44"
      ]
     },
     "metadata": {},
     "output_type": "display_data"
    }
   ],
   "source": [
    "round((mean(df$age_years[df$smoke == 0])),2) "
   ]
  },
  {
   "cell_type": "code",
   "execution_count": 140,
   "metadata": {},
   "outputs": [
    {
     "name": "stdout",
     "output_type": "stream",
     "text": [
      "[1] 24\n"
     ]
    }
   ],
   "source": [
    "print(median(df$age_years[df$smoke == 0])*12 - median(df$age_years[df$smoke == 1])*12) "
   ]
  },
  {
   "cell_type": "markdown",
   "metadata": {},
   "source": [
    "Вопрос 5.Создайте новый признак age_years – возраст в годах, округлив до целых (round). Для данного примера отберите курящих мужчин от 60 до 64 лет включительно\n",
    "Категории уровня холестрина на рисунке и в наших данных отличаются. Отображение значений на картинке в значения признака cholesterol следующее: 4 ммоль/л  →→  1, 5-7 ммоль/л  →→  2, 8 ммоль/л  →→  3.\n",
    "Интересуют 2 подвыборки курящих мужчин возраста от 60 до 64 лет включительно: первая с верхним артериальным давлением строго меньше 120 мм рт.ст. и концентрацией холестерина – 4 ммоль/л, а вторая – с верхним артериальным давлением от 160 (включительно) до 180 мм рт.ст. (не включительно) и концентрацией холестерина – 8 ммоль/л.\n",
    "Во сколько раз (округленно, round) отличаются доли больных людей (согласно целевому признаку, cardio) в этих двух подвыборках? Посчитайте на наших данных."
   ]
  },
  {
   "cell_type": "code",
   "execution_count": 141,
   "metadata": {},
   "outputs": [],
   "source": [
    "v1 <- df$cardio[(df$gender == 2) & (df$age_years >=60) & (df$age_years <=64) & (df$smoke == 1) & (df$ap_hi < 120) & (df$cholesterol ==1)] "
   ]
  },
  {
   "cell_type": "code",
   "execution_count": 142,
   "metadata": {},
   "outputs": [],
   "source": [
    "v2 <- df$cardio[(df$gender == 2) & (df$age_years >=60) & (df$age_years <=64) & (df$smoke == 1) & (df$ap_hi >= 160) &(df$ap_hi < 180) & (df$cholesterol ==1)] "
   ]
  },
  {
   "cell_type": "code",
   "execution_count": 143,
   "metadata": {},
   "outputs": [
    {
     "name": "stdout",
     "output_type": "stream",
     "text": [
      "[1] 3\n"
     ]
    }
   ],
   "source": [
    "print(round(mean(v2)/mean(v1)))"
   ]
  },
  {
   "cell_type": "markdown",
   "metadata": {},
   "source": [
    "Вопрос 6 (2 балла). Постройте новый признак – BMI (Body Mass Index). Для этого надо вес в килограммах поделить на квадрат роста в метрах. Нормальными считаются значения BMI от 18.5 до 25. Выберите верные утверждения.\n",
    "\n",
    "Утверждения:\n",
    "\n",
    "Медианный BMI по выборке превышает норму\n",
    "У женщин в среднем BMI ниже, чем у мужчин\n",
    "У здоровых в среднем BMI выше, чем у больных\n",
    "В сегменте здоровых и непьющих мужчин в среднем BMI ближе к норме, чем в сегменте здоровых и непьющих женщин"
   ]
  },
  {
   "cell_type": "code",
   "execution_count": 144,
   "metadata": {},
   "outputs": [],
   "source": [
    "df$height_m <- (df$height/100)**2 "
   ]
  },
  {
   "cell_type": "code",
   "execution_count": 145,
   "metadata": {},
   "outputs": [],
   "source": [
    "df$BMI <- df$weight/df$height_m "
   ]
  },
  {
   "cell_type": "markdown",
   "metadata": {},
   "source": [
    "Получаем Медианный BMI"
   ]
  },
  {
   "cell_type": "code",
   "execution_count": 146,
   "metadata": {},
   "outputs": [
    {
     "name": "stdout",
     "output_type": "stream",
     "text": [
      "[1] 26\n"
     ]
    }
   ],
   "source": [
    "print(median(round(df$BMI))) "
   ]
  },
  {
   "cell_type": "markdown",
   "metadata": {},
   "source": [
    "Получаем средний BMI у женщин"
   ]
  },
  {
   "cell_type": "code",
   "execution_count": 147,
   "metadata": {},
   "outputs": [
    {
     "name": "stdout",
     "output_type": "stream",
     "text": [
      "[1] 27\n"
     ]
    }
   ],
   "source": [
    "print(mean(round(df$BMI[female]),1)) "
   ]
  },
  {
   "cell_type": "markdown",
   "metadata": {},
   "source": [
    "Получаем средний BMI у мужчин"
   ]
  },
  {
   "cell_type": "code",
   "execution_count": 148,
   "metadata": {},
   "outputs": [
    {
     "name": "stdout",
     "output_type": "stream",
     "text": [
      "[1] 26\n"
     ]
    }
   ],
   "source": [
    "print(mean(round(df$BMI[male]),1)) "
   ]
  },
  {
   "cell_type": "markdown",
   "metadata": {},
   "source": [
    "Выяснили, что средний BMI у женщин больше"
   ]
  },
  {
   "cell_type": "markdown",
   "metadata": {},
   "source": [
    "Выясним средний BMI у здоровых"
   ]
  },
  {
   "cell_type": "code",
   "execution_count": 149,
   "metadata": {},
   "outputs": [
    {
     "name": "stdout",
     "output_type": "stream",
     "text": [
      "[1] 25\n"
     ]
    }
   ],
   "source": [
    "print(mean(round(df$BMI[which(df$cardio == 0)]),1)) "
   ]
  },
  {
   "cell_type": "markdown",
   "metadata": {},
   "source": [
    "Выясним средний BMI у больных"
   ]
  },
  {
   "cell_type": "code",
   "execution_count": 150,
   "metadata": {},
   "outputs": [
    {
     "name": "stdout",
     "output_type": "stream",
     "text": [
      "[1] 27\n"
     ]
    }
   ],
   "source": [
    "print(mean(round(df$BMI[which(df$cardio == 1)]),1)) "
   ]
  },
  {
   "cell_type": "markdown",
   "metadata": {},
   "source": [
    "Вывод: средний BMI больше у больных"
   ]
  },
  {
   "cell_type": "markdown",
   "metadata": {},
   "source": [
    "Выясним средний BMI у здоровых непьющих мужчин"
   ]
  },
  {
   "cell_type": "code",
   "execution_count": 151,
   "metadata": {},
   "outputs": [
    {
     "name": "stdout",
     "output_type": "stream",
     "text": [
      "[1] 25\n"
     ]
    }
   ],
   "source": [
    "print(mean(round(df$BMI[which(as.array(df$alco == 0) & as.array(df$cardio == 0) & sex == FALSE)]),1)) "
   ]
  },
  {
   "cell_type": "markdown",
   "metadata": {},
   "source": [
    "Выясним средний BMI у больных пьющих мужчин"
   ]
  },
  {
   "cell_type": "code",
   "execution_count": null,
   "metadata": {},
   "outputs": [],
   "source": [
    "print(mean(round(df$BMI[which(as.array(df$alco == 0) & as.array(df$cardio == 0) & sex == TRUE)]),1)) "
   ]
  },
  {
   "cell_type": "markdown",
   "metadata": {},
   "source": [
    "Вопрос 7.Сколько процентов данных (округленно, round) мы выбросили?"
   ]
  },
  {
   "cell_type": "code",
   "execution_count": null,
   "metadata": {},
   "outputs": [],
   "source": [
    "new_df <- length(df$BMI[(df$ap_hi >= df$ap_lo) & (df$height >= quantile(df$height, 0.025)) & (df$height <= quantile(df$height, 0.975)) & (df$weight >= quantile(df$weight, 0.025)) & (df$weight <= quantile(df$weight, 0.975))]) "
   ]
  },
  {
   "cell_type": "code",
   "execution_count": null,
   "metadata": {},
   "outputs": [],
   "source": [
    "first_df <- length(df$BMI) "
   ]
  },
  {
   "cell_type": "code",
   "execution_count": null,
   "metadata": {},
   "outputs": [],
   "source": [
    "s = round( new_df/ first_df *100, 0)"
   ]
  },
  {
   "cell_type": "code",
   "execution_count": null,
   "metadata": {},
   "outputs": [],
   "source": [
    "print(100-s)"
   ]
  },
  {
   "cell_type": "code",
   "execution_count": null,
   "metadata": {},
   "outputs": [],
   "source": []
  }
 ],
 "metadata": {
  "kernelspec": {
   "display_name": "R",
   "language": "R",
   "name": "r"
  },
  "language_info": {
   "codemirror_mode": "r",
   "file_extension": ".r",
   "mimetype": "text/x-r-source",
   "name": "R",
   "pygments_lexer": "r",
   "version": "3.4.1"
  }
 },
 "nbformat": 4,
 "nbformat_minor": 2
}
